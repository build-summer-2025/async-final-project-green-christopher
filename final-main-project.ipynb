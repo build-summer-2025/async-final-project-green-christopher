{
 "cells": [
  {
   "cell_type": "markdown",
   "id": "7f4caea1",
   "metadata": {},
   "source": []
  },
  {
   "cell_type": "code",
   "execution_count": null,
   "id": "2cf3e60b",
   "metadata": {},
   "outputs": [
    {
     "ename": "NameError",
     "evalue": "name 'pandas' is not defined",
     "output_type": "error",
     "traceback": [
      "\u001b[31m---------------------------------------------------------------------------\u001b[39m",
      "\u001b[31mNameError\u001b[39m                                 Traceback (most recent call last)",
      "\u001b[36mCell\u001b[39m\u001b[36m \u001b[39m\u001b[32mIn[1]\u001b[39m\u001b[32m, line 6\u001b[39m\n\u001b[32m      3\u001b[39m \u001b[38;5;28;01mimport\u001b[39;00m\u001b[38;5;250m \u001b[39m\u001b[34;01mseaborn\u001b[39;00m\n\u001b[32m      4\u001b[39m \u001b[38;5;28;01mimport\u001b[39;00m\u001b[38;5;250m \u001b[39m\u001b[34;01mmatplotlib\u001b[39;00m\u001b[34;01m.\u001b[39;00m\u001b[34;01mpyplot\u001b[39;00m\u001b[38;5;250m \u001b[39m\u001b[38;5;28;01mas\u001b[39;00m\u001b[38;5;250m \u001b[39m\u001b[34;01mplt\u001b[39;00m\n\u001b[32m----> \u001b[39m\u001b[32m6\u001b[39m international_teams = \u001b[43mpandas\u001b[49m.read_csv(\u001b[33m\"\u001b[39m\u001b[33mC:/Users/Christopher/Downloads/international_matches.csv.zip\u001b[39m\u001b[33m\"\u001b[39m)\n\u001b[32m      8\u001b[39m international_teams.head(\u001b[32m10\u001b[39m)\n",
      "\u001b[31mNameError\u001b[39m: name 'pandas' is not defined"
     ]
    }
   ],
   "source": [
    "import math\n",
    "import pandas as pd\n",
    "import seaborn\n",
    "import matplotlib.pyplot as plt\n",
    "\n",
    "international_teams = pandas.read_csv(\"C:\\Users\\Christopher\\Documents\\GitHub\\github-team\\international_matches.csv\")\n",
    "\n",
    "international_teams.head(10)"
   ]
  },
  {
   "cell_type": "markdown",
   "id": "d1bfac35",
   "metadata": {},
   "source": [
    "Question 1: Since what year does the data set include games of?"
   ]
  },
  {
   "cell_type": "code",
   "execution_count": null,
   "id": "86c8f1e7",
   "metadata": {},
   "outputs": [],
   "source": [
    "# converts string date values into datetime objects which allows for easier manipulation for dates\n",
    "international_teams['date'] = pd.to_datetime(international_teams['date'], errors='coerce')\n",
    "\n",
    "# checks for any missing dates\n",
    "missing_dates = international_teams['date'].isna().sum()\n",
    "\n",
    "# finds earliest date of recorded game only if there aren't any missing dates \n",
    "earliest_year = international_teams['date'].min().year if missing_dates == 0 else None\n",
    "\n",
    "# prints since when the earliest year was for match information\n",
    "print(f\"Since the year {earliest_year} there is international match information. Here is a visualization on how much data was given from matches every year\")\n",
    "\n",
    "# gets column from dates and only gets year portion of dates\n",
    "international_teams['year'] = international_teams['date'].dt.year\n",
    "\n",
    "# count matches per year\n",
    "matches_per_year = international_teams['year'].value_counts().sort_index()\n",
    "\n",
    "# create scatter plot\n",
    "plt.figure(figsize=(12,6))\n",
    "plt.scatter(matches_per_year.index, matches_per_year.values, color=\"blue\", alpha=0.7)\n",
    "\n",
    "plt.title(\"Number of Matches Recorded per Year\")\n",
    "plt.xlabel(\"Year\")\n",
    "plt.ylabel(\"Number of Matches\")\n",
    "plt.grid(True, linestyle='--', alpha=0.6)\n",
    "plt.show()\n"
   ]
  },
  {
   "cell_type": "markdown",
   "id": "b22bf741",
   "metadata": {},
   "source": [
    "Analyzing the data, it appears that the first set of games that we have a recording of for this data set is since 1993. Moreover, I also found it interesting the the amount of matches that were recorded and played throughout the most was around 2022. The trend of the matches played themselves continued to grow since 1993 until around 2019. Moving onto 2020, the amount of matches that were played dropped significantly. This almost matched the amount of recorded matches in 1993, only being a couple hundred off. The reason for this is because of the COVID-19 pandemic, which brought lockdown to the entire world and therefore, not many games were able to be played. Nonetheless, at the end of the graph the trend is starting to go back up, and many games were played throughout 2021 due to the lack of games there were the year before and to also prepare for the 2022 FIFA World Cup. The most games that were played were between 2005 and 2015, and it appears that the most matches played was in 2019/2021. "
   ]
  },
  {
   "cell_type": "markdown",
   "id": "e1e2437d",
   "metadata": {},
   "source": [
    "Question 2: What top three national teams from North America have won the most games?"
   ]
  },
  {
   "cell_type": "code",
   "execution_count": null,
   "id": "e1a15950",
   "metadata": {},
   "outputs": [],
   "source": [
    "# Create a new column for winner\n",
    "# Filter for North America\n",
    "north_america_wins = wins[wins['winner_continent'] == \"North America\"]\n",
    "\n",
    "# Get the top 3 national teams\n",
    "top3_na = north_america_wins.sort_values(by=\"wins\", ascending=False).head(3)\n",
    "\n",
    "print(top3_na)\n",
    "\n",
    "\n",
    "plt.figure(figsize=(7,7))\n",
    "plt.pie(\n",
    "    top3_na['wins'],\n",
    "    labels=top3_na['winner'],\n",
    "    autopct='%1.1f%%',\n",
    "    startangle=140\n",
    ")\n",
    "\n",
    "plt.title(\"Top 3 North American Teams by Wins\")\n",
    "plt.show()\n",
    "\n"
   ]
  },
  {
   "cell_type": "markdown",
   "id": "55a1656e",
   "metadata": {},
   "source": []
  }
 ],
 "metadata": {
  "kernelspec": {
   "display_name": "Python 3",
   "language": "python",
   "name": "python3"
  },
  "language_info": {
   "codemirror_mode": {
    "name": "ipython",
    "version": 3
   },
   "file_extension": ".py",
   "mimetype": "text/x-python",
   "name": "python",
   "nbconvert_exporter": "python",
   "pygments_lexer": "ipython3",
   "version": "3.13.4"
  }
 },
 "nbformat": 4,
 "nbformat_minor": 5
}
